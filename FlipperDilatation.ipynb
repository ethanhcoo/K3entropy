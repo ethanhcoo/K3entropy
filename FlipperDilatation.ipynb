{
 "cells": [
  {
   "cell_type": "code",
   "execution_count": 1,
   "id": "b1776988-00c6-4c1e-98e4-6ae0511bd2d2",
   "metadata": {},
   "outputs": [
    {
     "ename": "KeyboardInterrupt",
     "evalue": "",
     "output_type": "error",
     "traceback": [
      "\u001b[0;31m---------------------------------------------------------------------------\u001b[0m",
      "\u001b[0;31mKeyError\u001b[0m                                  Traceback (most recent call last)",
      "File \u001b[0;32m/private/var/tmp/sage-10.5-current/local/var/lib/sage/venv-python3.12.5/lib/python3.12/site-packages/sympy/core/evalf.py:1482\u001b[0m, in \u001b[0;36mevalf\u001b[0;34m(x, prec, options)\u001b[0m\n\u001b[1;32m   1481\u001b[0m \u001b[38;5;28;01mtry\u001b[39;00m:\n\u001b[0;32m-> 1482\u001b[0m     rf \u001b[38;5;241m=\u001b[39m \u001b[43mevalf_table\u001b[49m\u001b[43m[\u001b[49m\u001b[38;5;28;43mtype\u001b[39;49m\u001b[43m(\u001b[49m\u001b[43mx\u001b[49m\u001b[43m)\u001b[49m\u001b[43m]\u001b[49m\n\u001b[1;32m   1483\u001b[0m     r \u001b[38;5;241m=\u001b[39m rf(x, prec, options)\n",
      "\u001b[0;31mKeyError\u001b[0m: <class 'sympy.polys.rootoftools.ComplexRootOf'>",
      "\nDuring handling of the above exception, another exception occurred:\n",
      "\u001b[0;31mKeyboardInterrupt\u001b[0m                         Traceback (most recent call last)",
      "Cell \u001b[0;32mIn[1], line 6\u001b[0m\n\u001b[1;32m      4\u001b[0m big_word \u001b[38;5;241m=\u001b[39m \u001b[38;5;124m'\u001b[39m\u001b[38;5;124mS_5.s_6.s_7.S_8.S_8.S_7.S_6.S_5.s_4.s_3.s_1.s_0.s_2.s_1.s_7.S_8.S_8.S_7.S_6.s_5.s_4.s_3.s_2.S_8.S_7.s_6.s_5.s_4.s_3.S_4.S_3.S_2.S_1.S_0.S_0.S_1.S_2.S_3.S_4.S_5.S_6.S_7.S_7.s_6.s_5.s_4.S_8.S_7.S_6.S_5.S_4.S_3.S_2.S_1.S_0.S_0.S_1.S_2.S_3.S_4.S_5.S_6.S_7.S_8.S_8.s_7.s_6.s_5.s_7.S_6.S_5.S_4.S_3.S_2.S_1.S_0.S_0.S_1.S_2.S_3.S_4.S_5.S_6.S_7.S_8.S_8.s_7.s_6.S_7.S_6.S_5.S_4.S_3.S_2.S_1.S_0.S_0.S_1.S_2.S_3.S_4.S_5.S_6.S_7.S_8.S_8.S_6.S_5.S_4.S_3.S_2.S_1.S_0.S_0.S_1.S_2.S_3.S_4.S_5.S_6.S_7.S_8.S_8.s_5.S_6.S_7.s_8.s_8.s_7.s_6.s_5.S_4.S_3.S_1.S_0.S_2.S_1.S_7.s_8.s_8.s_7.s_6.S_5.S_4.S_3.S_2.s_8.s_7.S_6.S_5.S_4.S_3.s_4.s_3.s_2.s_1.s_0.s_0.s_1.s_2.s_3.s_4.s_5.s_6.s_7.s_7.S_6.S_5.S_4.s_8.s_7.s_6.s_5.s_4.s_3.s_2.s_1.s_0.s_0.s_1.s_2.s_3.s_4.s_5.s_6.s_7.s_8.s_8.S_7.S_6.S_5.S_7.s_6.s_5.s_4.s_3.s_2.s_1.s_0.s_0.s_1.s_2.s_3.s_4.s_5.s_6.s_7.s_8.s_8.S_7.S_6.s_7.s_6.s_5.s_4.s_3.s_2.s_1.s_0.s_0.s_1.s_2.s_3.s_4.s_5.s_6.s_7.s_8.s_8.s_6.s_5.s_4.s_3.s_2.s_1.s_0.s_0.s_1.s_2.s_3.s_4.s_5.s_6.s_7.s_8.s_8\u001b[39m\u001b[38;5;124m'\u001b[39m\n\u001b[1;32m      5\u001b[0m h \u001b[38;5;241m=\u001b[39m S\u001b[38;5;241m.\u001b[39mmapping_class(big_word)\n\u001b[0;32m----> 6\u001b[0m \u001b[38;5;28mprint\u001b[39m(\u001b[38;5;124m'\u001b[39m\u001b[38;5;124mh is \u001b[39m\u001b[38;5;132;01m%s\u001b[39;00m\u001b[38;5;124m.\u001b[39m\u001b[38;5;124m'\u001b[39m \u001b[38;5;241m%\u001b[39m \u001b[43mh\u001b[49m\u001b[38;5;241;43m.\u001b[39;49m\u001b[43mnielsen_thurston_type\u001b[49m\u001b[43m(\u001b[49m\u001b[43m)\u001b[49m)\n\u001b[1;32m      7\u001b[0m \u001b[38;5;28mprint\u001b[39m(\u001b[38;5;124m'\u001b[39m\u001b[38;5;124mdilatation is \u001b[39m\u001b[38;5;132;01m%f\u001b[39;00m\u001b[38;5;124m.\u001b[39m\u001b[38;5;124m'\u001b[39m \u001b[38;5;241m%\u001b[39m h\u001b[38;5;241m.\u001b[39mdilatation())\n",
      "File \u001b[0;32m~/Library/SageMath-10-5/lib/python3.12/site-packages/flipper/kernel/encoding.py:381\u001b[0m, in \u001b[0;36mEncoding.nielsen_thurston_type\u001b[0;34m(self)\u001b[0m\n\u001b[1;32m    376\u001b[0m     \u001b[38;5;28;01mreturn\u001b[39;00m NT_TYPE_PERIODIC\n\u001b[1;32m    378\u001b[0m \u001b[38;5;28;01mtry\u001b[39;00m:\n\u001b[1;32m    379\u001b[0m     \u001b[38;5;66;03m# We could do any of self.splitting_sequence(), self.canonical(), ...\u001b[39;00m\n\u001b[1;32m    380\u001b[0m     \u001b[38;5;66;03m# but this involves the least calculation and so is fastest.\u001b[39;00m\n\u001b[0;32m--> 381\u001b[0m     \u001b[38;5;28;43mself\u001b[39;49m\u001b[38;5;241;43m.\u001b[39;49m\u001b[43msplitting_sequences\u001b[49m\u001b[43m(\u001b[49m\u001b[43m)\u001b[49m\n\u001b[1;32m    382\u001b[0m \u001b[38;5;28;01mexcept\u001b[39;00m flipper\u001b[38;5;241m.\u001b[39mAssumptionError:\n\u001b[1;32m    383\u001b[0m     \u001b[38;5;28;01mreturn\u001b[39;00m NT_TYPE_REDUCIBLE\n",
      "File \u001b[0;32m~/Library/SageMath-10-5/lib/python3.12/site-packages/flipper/kernel/encoding.py:329\u001b[0m, in \u001b[0;36mEncoding.splitting_sequences\u001b[0;34m(self, take_roots)\u001b[0m\n\u001b[1;32m    327\u001b[0m dilatation, lamination \u001b[38;5;241m=\u001b[39m \u001b[38;5;28mself\u001b[39m\u001b[38;5;241m.\u001b[39mpml_fixedpoint()\n\u001b[1;32m    328\u001b[0m \u001b[38;5;28;01mtry\u001b[39;00m:\n\u001b[0;32m--> 329\u001b[0m     splittings \u001b[38;5;241m=\u001b[39m \u001b[43mlamination\u001b[49m\u001b[38;5;241;43m.\u001b[39;49m\u001b[43msplitting_sequences\u001b[49m\u001b[43m(\u001b[49m\u001b[43mdilatation\u001b[49m\u001b[38;5;241;43m=\u001b[39;49m\u001b[38;5;28;43;01mNone\u001b[39;49;00m\u001b[43m \u001b[49m\u001b[38;5;28;43;01mif\u001b[39;49;00m\u001b[43m \u001b[49m\u001b[43mtake_roots\u001b[49m\u001b[43m \u001b[49m\u001b[38;5;28;43;01melse\u001b[39;49;00m\u001b[43m \u001b[49m\u001b[43mdilatation\u001b[49m\u001b[43m)\u001b[49m\n\u001b[1;32m    330\u001b[0m \u001b[38;5;28;01mexcept\u001b[39;00m flipper\u001b[38;5;241m.\u001b[39mAssumptionError \u001b[38;5;28;01mas\u001b[39;00m err:  \u001b[38;5;66;03m# Lamination is not filling.\u001b[39;00m\n\u001b[1;32m    331\u001b[0m     \u001b[38;5;28;01mraise\u001b[39;00m flipper\u001b[38;5;241m.\u001b[39mAssumptionError(\u001b[38;5;124m'\u001b[39m\u001b[38;5;124mMapping class is not pseudo-Anosov.\u001b[39m\u001b[38;5;124m'\u001b[39m) \u001b[38;5;28;01mfrom\u001b[39;00m \u001b[38;5;21;01merr\u001b[39;00m\n",
      "File \u001b[0;32m/private/var/tmp/sage-10.5-current/local/var/lib/sage/venv-python3.12.5/lib/python3.12/site-packages/decorator.py:232\u001b[0m, in \u001b[0;36mdecorate.<locals>.fun\u001b[0;34m(*args, **kw)\u001b[0m\n\u001b[1;32m    230\u001b[0m \u001b[38;5;28;01mif\u001b[39;00m \u001b[38;5;129;01mnot\u001b[39;00m kwsyntax:\n\u001b[1;32m    231\u001b[0m     args, kw \u001b[38;5;241m=\u001b[39m fix(args, kw, sig)\n\u001b[0;32m--> 232\u001b[0m \u001b[38;5;28;01mreturn\u001b[39;00m \u001b[43mcaller\u001b[49m\u001b[43m(\u001b[49m\u001b[43mfunc\u001b[49m\u001b[43m,\u001b[49m\u001b[43m \u001b[49m\u001b[38;5;241;43m*\u001b[39;49m\u001b[43m(\u001b[49m\u001b[43mextras\u001b[49m\u001b[43m \u001b[49m\u001b[38;5;241;43m+\u001b[39;49m\u001b[43m \u001b[49m\u001b[43margs\u001b[49m\u001b[43m)\u001b[49m\u001b[43m,\u001b[49m\u001b[43m \u001b[49m\u001b[38;5;241;43m*\u001b[39;49m\u001b[38;5;241;43m*\u001b[39;49m\u001b[43mkw\u001b[49m\u001b[43m)\u001b[49m\n",
      "File \u001b[0;32m~/Library/SageMath-10-5/lib/python3.12/site-packages/flipper/kernel/decorators.py:19\u001b[0m, in \u001b[0;36mmemoize\u001b[0;34m(function, *args, **kwargs)\u001b[0m\n\u001b[1;32m     17\u001b[0m \u001b[38;5;28;01mif\u001b[39;00m key \u001b[38;5;129;01mnot\u001b[39;00m \u001b[38;5;129;01min\u001b[39;00m \u001b[38;5;28mself\u001b[39m\u001b[38;5;241m.\u001b[39m_cache:\n\u001b[1;32m     18\u001b[0m     \u001b[38;5;28;01mtry\u001b[39;00m:\n\u001b[0;32m---> 19\u001b[0m         \u001b[38;5;28mself\u001b[39m\u001b[38;5;241m.\u001b[39m_cache[key] \u001b[38;5;241m=\u001b[39m \u001b[43mfunction\u001b[49m\u001b[43m(\u001b[49m\u001b[38;5;241;43m*\u001b[39;49m\u001b[43margs\u001b[49m\u001b[43m,\u001b[49m\u001b[43m \u001b[49m\u001b[38;5;241;43m*\u001b[39;49m\u001b[38;5;241;43m*\u001b[39;49m\u001b[43mkwargs\u001b[49m\u001b[43m)\u001b[49m\n\u001b[1;32m     20\u001b[0m     \u001b[38;5;28;01mexcept\u001b[39;00m \u001b[38;5;167;01mException\u001b[39;00m \u001b[38;5;28;01mas\u001b[39;00m error:  \u001b[38;5;66;03m# pylint: disable=broad-except\u001b[39;00m\n\u001b[1;32m     21\u001b[0m         \u001b[38;5;28;01mif\u001b[39;00m \u001b[38;5;28misinstance\u001b[39m(error, \u001b[38;5;167;01mKeyboardInterrupt\u001b[39;00m):\n",
      "File \u001b[0;32m~/Library/SageMath-10-5/lib/python3.12/site-packages/flipper/kernel/lamination.py:662\u001b[0m, in \u001b[0;36mLamination.splitting_sequences\u001b[0;34m(self, dilatation, maxlen)\u001b[0m\n\u001b[1;32m    655\u001b[0m     \u001b[38;5;28;01mcontinue\u001b[39;00m\n\u001b[1;32m    657\u001b[0m \u001b[38;5;66;03m# In the next block we have a lot of tests to do. We'll do these in\u001b[39;00m\n\u001b[1;32m    658\u001b[0m \u001b[38;5;66;03m# order of difficulty of computation. For example, computing\u001b[39;00m\n\u001b[1;32m    659\u001b[0m \u001b[38;5;66;03m# projective_isometries is slow; so we'll leave that to last to give\u001b[39;00m\n\u001b[1;32m    660\u001b[0m \u001b[38;5;66;03m# us the best chance that a faster test failing will allow us to\u001b[39;00m\n\u001b[1;32m    661\u001b[0m \u001b[38;5;66;03m# skip it.\u001b[39;00m\n\u001b[0;32m--> 662\u001b[0m \u001b[38;5;28;01mif\u001b[39;00m dilatation \u001b[38;5;129;01mis\u001b[39;00m \u001b[38;5;28;01mNone\u001b[39;00m \u001b[38;5;129;01mor\u001b[39;00m \u001b[43mold_lamination\u001b[49m\u001b[38;5;241;43m.\u001b[39;49m\u001b[43mweight\u001b[49m\u001b[43m(\u001b[49m\u001b[43m)\u001b[49m\u001b[43m \u001b[49m\u001b[38;5;241;43m>\u001b[39;49m\u001b[38;5;241;43m=\u001b[39;49m\u001b[43m \u001b[49m\u001b[43mdilatation\u001b[49m\u001b[43m \u001b[49m\u001b[38;5;241;43m*\u001b[39;49m\u001b[43m \u001b[49m\u001b[43mlamination\u001b[49m\u001b[38;5;241;43m.\u001b[39;49m\u001b[43mweight\u001b[49m\u001b[43m(\u001b[49m\u001b[43m)\u001b[49m:\n\u001b[1;32m    663\u001b[0m     isometries \u001b[38;5;241m=\u001b[39m lamination\u001b[38;5;241m.\u001b[39mall_projective_isometries(old_lamination)\n\u001b[1;32m    664\u001b[0m     \u001b[38;5;28;01mif\u001b[39;00m isometries:\n",
      "File \u001b[0;32m/private/var/tmp/sage-10.5-current/local/var/lib/sage/venv-python3.12.5/lib/python3.12/functools.py:105\u001b[0m, in \u001b[0;36m_ge_from_lt\u001b[0;34m(self, other)\u001b[0m\n\u001b[1;32m    103\u001b[0m \u001b[38;5;28;01mdef\u001b[39;00m \u001b[38;5;21m_ge_from_lt\u001b[39m(\u001b[38;5;28mself\u001b[39m, other):\n\u001b[1;32m    104\u001b[0m     \u001b[38;5;124m'\u001b[39m\u001b[38;5;124mReturn a >= b.  Computed by @total_ordering from (not a < b).\u001b[39m\u001b[38;5;124m'\u001b[39m\n\u001b[0;32m--> 105\u001b[0m     op_result \u001b[38;5;241m=\u001b[39m \u001b[38;5;28;43mtype\u001b[39;49m\u001b[43m(\u001b[49m\u001b[38;5;28;43mself\u001b[39;49m\u001b[43m)\u001b[49m\u001b[38;5;241;43m.\u001b[39;49m\u001b[38;5;21;43m__lt__\u001b[39;49m\u001b[43m(\u001b[49m\u001b[38;5;28;43mself\u001b[39;49m\u001b[43m,\u001b[49m\u001b[43m \u001b[49m\u001b[43mother\u001b[49m\u001b[43m)\u001b[49m\n\u001b[1;32m    106\u001b[0m     \u001b[38;5;28;01mif\u001b[39;00m op_result \u001b[38;5;129;01mis\u001b[39;00m \u001b[38;5;28mNotImplemented\u001b[39m:\n\u001b[1;32m    107\u001b[0m         \u001b[38;5;28;01mreturn\u001b[39;00m op_result\n",
      "File \u001b[0;32m~/Library/SageMath-10-5/lib/python3.12/site-packages/realalg/base_algebraic.py:226\u001b[0m, in \u001b[0;36mBaseRealAlgebraic.__lt__\u001b[0;34m(self, other)\u001b[0m\n\u001b[1;32m    225\u001b[0m \u001b[38;5;28;01mdef\u001b[39;00m \u001b[38;5;21m__lt__\u001b[39m(\u001b[38;5;28mself\u001b[39m, other):\n\u001b[0;32m--> 226\u001b[0m     \u001b[38;5;28;01mreturn\u001b[39;00m \u001b[38;5;28;43mself\u001b[39;49m\u001b[38;5;241;43m.\u001b[39;49m\u001b[43mcmp\u001b[49m\u001b[43m(\u001b[49m\u001b[43mother\u001b[49m\u001b[43m)\u001b[49m \u001b[38;5;241m==\u001b[39m \u001b[38;5;241m-\u001b[39m\u001b[38;5;241m1\u001b[39m\n",
      "File \u001b[0;32m~/Library/SageMath-10-5/lib/python3.12/site-packages/realalg/base_algebraic.py:211\u001b[0m, in \u001b[0;36mBaseRealAlgebraic.cmp\u001b[0;34m(self, other)\u001b[0m\n\u001b[1;32m    209\u001b[0m length \u001b[38;5;241m=\u001b[39m \u001b[38;5;28mself\u001b[39m\u001b[38;5;241m.\u001b[39mlength \u001b[38;5;241m+\u001b[39m other\u001b[38;5;241m.\u001b[39mlength \u001b[38;5;241m+\u001b[39m LOG_2  \u001b[38;5;66;03m# An upper bound on the length of self - other.\u001b[39;00m\n\u001b[1;32m    210\u001b[0m \u001b[38;5;28;01mwhile\u001b[39;00m \u001b[38;5;28;01mTrue\u001b[39;00m:\n\u001b[0;32m--> 211\u001b[0m     potential_sign \u001b[38;5;241m=\u001b[39m (\u001b[38;5;28;43mself\u001b[39;49m\u001b[38;5;241;43m.\u001b[39;49m\u001b[43minterval\u001b[49m\u001b[43m(\u001b[49m\u001b[43maccuracy\u001b[49m\u001b[38;5;241;43m=\u001b[39;49m\u001b[43md\u001b[49m\u001b[43m)\u001b[49m \u001b[38;5;241m-\u001b[39m other\u001b[38;5;241m.\u001b[39minterval(accuracy\u001b[38;5;241m=\u001b[39md))\u001b[38;5;241m.\u001b[39msign()\n\u001b[1;32m    212\u001b[0m     \u001b[38;5;28;01mif\u001b[39;00m potential_sign:  \u001b[38;5;66;03m# sign is 'obvious' at this point.\u001b[39;00m\n\u001b[1;32m    213\u001b[0m         \u001b[38;5;28;01mreturn\u001b[39;00m potential_sign\n",
      "File \u001b[0;32m~/Library/SageMath-10-5/lib/python3.12/site-packages/realalg/base_algebraic.py:176\u001b[0m, in \u001b[0;36mBaseRealAlgebraic.interval\u001b[0;34m(self, accuracy)\u001b[0m\n\u001b[1;32m    174\u001b[0m \u001b[38;5;250m\u001b[39m\u001b[38;5;124;03m''' Return an interval around self with at least the requested accuracy. '''\u001b[39;00m\n\u001b[1;32m    175\u001b[0m intermediate_accuracy \u001b[38;5;241m=\u001b[39m \u001b[38;5;28mint\u001b[39m(accuracy \u001b[38;5;241m+\u001b[39m \u001b[38;5;28mmax\u001b[39m(log_plus(coefficient) \u001b[38;5;28;01mfor\u001b[39;00m coefficient \u001b[38;5;129;01min\u001b[39;00m \u001b[38;5;28mself\u001b[39m\u001b[38;5;241m.\u001b[39mcoefficients) \u001b[38;5;241m+\u001b[39m \u001b[38;5;28mlen\u001b[39m(\u001b[38;5;28mself\u001b[39m\u001b[38;5;241m.\u001b[39mcoefficients)) \u001b[38;5;241m+\u001b[39m \u001b[38;5;241m1\u001b[39m\n\u001b[0;32m--> 176\u001b[0m interval \u001b[38;5;241m=\u001b[39m \u001b[38;5;28msum\u001b[39m(coeff \u001b[38;5;241m*\u001b[39m interval \u001b[38;5;28;01mfor\u001b[39;00m coeff, interval \u001b[38;5;129;01min\u001b[39;00m \u001b[38;5;28mzip\u001b[39m(\u001b[38;5;28mself\u001b[39m\u001b[38;5;241m.\u001b[39mcoefficients, \u001b[38;5;28;43mself\u001b[39;49m\u001b[38;5;241;43m.\u001b[39;49m\u001b[43mfield\u001b[49m\u001b[38;5;241;43m.\u001b[39;49m\u001b[43mintervals\u001b[49m\u001b[43m(\u001b[49m\u001b[43mintermediate_accuracy\u001b[49m\u001b[43m)\u001b[49m))\n\u001b[1;32m    177\u001b[0m \u001b[38;5;28;01massert\u001b[39;00m interval\u001b[38;5;241m.\u001b[39maccuracy \u001b[38;5;241m>\u001b[39m\u001b[38;5;241m=\u001b[39m accuracy\n\u001b[1;32m    178\u001b[0m \u001b[38;5;28;01mreturn\u001b[39;00m interval\u001b[38;5;241m.\u001b[39msimplify(accuracy\u001b[38;5;241m+\u001b[39m\u001b[38;5;241m1\u001b[39m)\n",
      "File \u001b[0;32m~/Library/SageMath-10-5/lib/python3.12/site-packages/realalg/base_algebraic.py:62\u001b[0m, in \u001b[0;36mBaseRealNumberField.intervals\u001b[0;34m(self, accuracy)\u001b[0m\n\u001b[1;32m     60\u001b[0m \u001b[38;5;28;01mif\u001b[39;00m accuracy \u001b[38;5;241m>\u001b[39m \u001b[38;5;28mself\u001b[39m\u001b[38;5;241m.\u001b[39m_accuracy:\n\u001b[1;32m     61\u001b[0m     precision \u001b[38;5;241m=\u001b[39m \u001b[38;5;28mint\u001b[39m(accuracy \u001b[38;5;241m+\u001b[39m \u001b[38;5;28mself\u001b[39m\u001b[38;5;241m.\u001b[39mdegree\u001b[38;5;241m*\u001b[39m\u001b[38;5;28mself\u001b[39m\u001b[38;5;241m.\u001b[39mlog_bound \u001b[38;5;241m+\u001b[39m \u001b[38;5;241m1\u001b[39m) \u001b[38;5;241m+\u001b[39m \u001b[38;5;241m1\u001b[39m  \u001b[38;5;66;03m# Cheap ceil.\u001b[39;00m\n\u001b[0;32m---> 62\u001b[0m     s \u001b[38;5;241m=\u001b[39m \u001b[38;5;28mstr\u001b[39m(\u001b[43msp\u001b[49m\u001b[38;5;241;43m.\u001b[39;49m\u001b[43mN\u001b[49m\u001b[43m(\u001b[49m\u001b[38;5;28;43mself\u001b[39;49m\u001b[38;5;241;43m.\u001b[39;49m\u001b[43msp_place\u001b[49m\u001b[43m,\u001b[49m\u001b[43m \u001b[49m\u001b[43mprecision\u001b[49m\u001b[43m)\u001b[49m)\n\u001b[1;32m     63\u001b[0m     interval \u001b[38;5;241m=\u001b[39m Interval\u001b[38;5;241m.\u001b[39mfrom_string(s, precision)\n\u001b[1;32m     64\u001b[0m     \u001b[38;5;28mself\u001b[39m\u001b[38;5;241m.\u001b[39m_intervals \u001b[38;5;241m=\u001b[39m [interval\u001b[38;5;241m*\u001b[39m\u001b[38;5;241m*\u001b[39mi \u001b[38;5;28;01mfor\u001b[39;00m i \u001b[38;5;129;01min\u001b[39;00m \u001b[38;5;28mrange\u001b[39m(\u001b[38;5;28mself\u001b[39m\u001b[38;5;241m.\u001b[39mdegree)]\n",
      "File \u001b[0;32m/private/var/tmp/sage-10.5-current/local/var/lib/sage/venv-python3.12.5/lib/python3.12/site-packages/sympy/core/evalf.py:1750\u001b[0m, in \u001b[0;36mN\u001b[0;34m(x, n, **options)\u001b[0m\n\u001b[1;32m   1728\u001b[0m \u001b[38;5;250m\u001b[39m\u001b[38;5;124mr\u001b[39m\u001b[38;5;124;03m\"\"\"\u001b[39;00m\n\u001b[1;32m   1729\u001b[0m \u001b[38;5;124;03mCalls x.evalf(n, \\*\\*options).\u001b[39;00m\n\u001b[1;32m   1730\u001b[0m \n\u001b[0;32m   (...)\u001b[0m\n\u001b[1;32m   1746\u001b[0m \n\u001b[1;32m   1747\u001b[0m \u001b[38;5;124;03m\"\"\"\u001b[39;00m\n\u001b[1;32m   1748\u001b[0m \u001b[38;5;66;03m# by using rational=True, any evaluation of a string\u001b[39;00m\n\u001b[1;32m   1749\u001b[0m \u001b[38;5;66;03m# will be done using exact values for the Floats\u001b[39;00m\n\u001b[0;32m-> 1750\u001b[0m \u001b[38;5;28;01mreturn\u001b[39;00m \u001b[43msympify\u001b[49m\u001b[43m(\u001b[49m\u001b[43mx\u001b[49m\u001b[43m,\u001b[49m\u001b[43m \u001b[49m\u001b[43mrational\u001b[49m\u001b[38;5;241;43m=\u001b[39;49m\u001b[38;5;28;43;01mTrue\u001b[39;49;00m\u001b[43m)\u001b[49m\u001b[38;5;241;43m.\u001b[39;49m\u001b[43mevalf\u001b[49m\u001b[43m(\u001b[49m\u001b[43mn\u001b[49m\u001b[43m,\u001b[49m\u001b[43m \u001b[49m\u001b[38;5;241;43m*\u001b[39;49m\u001b[38;5;241;43m*\u001b[39;49m\u001b[43moptions\u001b[49m\u001b[43m)\u001b[49m\n",
      "File \u001b[0;32m/private/var/tmp/sage-10.5-current/local/var/lib/sage/venv-python3.12.5/lib/python3.12/site-packages/sympy/core/evalf.py:1648\u001b[0m, in \u001b[0;36mEvalfMixin.evalf\u001b[0;34m(self, n, subs, maxn, chop, strict, quad, verbose)\u001b[0m\n\u001b[1;32m   1646\u001b[0m     options[\u001b[38;5;124m'\u001b[39m\u001b[38;5;124mquad\u001b[39m\u001b[38;5;124m'\u001b[39m] \u001b[38;5;241m=\u001b[39m quad\n\u001b[1;32m   1647\u001b[0m \u001b[38;5;28;01mtry\u001b[39;00m:\n\u001b[0;32m-> 1648\u001b[0m     result \u001b[38;5;241m=\u001b[39m \u001b[43mevalf\u001b[49m\u001b[43m(\u001b[49m\u001b[38;5;28;43mself\u001b[39;49m\u001b[43m,\u001b[49m\u001b[43m \u001b[49m\u001b[43mprec\u001b[49m\u001b[43m \u001b[49m\u001b[38;5;241;43m+\u001b[39;49m\u001b[43m \u001b[49m\u001b[38;5;241;43m4\u001b[39;49m\u001b[43m,\u001b[49m\u001b[43m \u001b[49m\u001b[43moptions\u001b[49m\u001b[43m)\u001b[49m\n\u001b[1;32m   1649\u001b[0m \u001b[38;5;28;01mexcept\u001b[39;00m \u001b[38;5;167;01mNotImplementedError\u001b[39;00m:\n\u001b[1;32m   1650\u001b[0m     \u001b[38;5;66;03m# Fall back to the ordinary evalf\u001b[39;00m\n\u001b[1;32m   1651\u001b[0m     \u001b[38;5;28;01mif\u001b[39;00m \u001b[38;5;28mhasattr\u001b[39m(\u001b[38;5;28mself\u001b[39m, \u001b[38;5;124m'\u001b[39m\u001b[38;5;124msubs\u001b[39m\u001b[38;5;124m'\u001b[39m) \u001b[38;5;129;01mand\u001b[39;00m subs \u001b[38;5;129;01mis\u001b[39;00m \u001b[38;5;129;01mnot\u001b[39;00m \u001b[38;5;28;01mNone\u001b[39;00m:  \u001b[38;5;66;03m# issue 20291\u001b[39;00m\n",
      "File \u001b[0;32m/private/var/tmp/sage-10.5-current/local/var/lib/sage/venv-python3.12.5/lib/python3.12/site-packages/sympy/core/evalf.py:1488\u001b[0m, in \u001b[0;36mevalf\u001b[0;34m(x, prec, options)\u001b[0m\n\u001b[1;32m   1486\u001b[0m \u001b[38;5;28;01mif\u001b[39;00m \u001b[38;5;124m'\u001b[39m\u001b[38;5;124msubs\u001b[39m\u001b[38;5;124m'\u001b[39m \u001b[38;5;129;01min\u001b[39;00m options:\n\u001b[1;32m   1487\u001b[0m     x \u001b[38;5;241m=\u001b[39m x\u001b[38;5;241m.\u001b[39msubs(evalf_subs(prec, options[\u001b[38;5;124m'\u001b[39m\u001b[38;5;124msubs\u001b[39m\u001b[38;5;124m'\u001b[39m]))\n\u001b[0;32m-> 1488\u001b[0m xe \u001b[38;5;241m=\u001b[39m \u001b[43mx\u001b[49m\u001b[38;5;241;43m.\u001b[39;49m\u001b[43m_eval_evalf\u001b[49m\u001b[43m(\u001b[49m\u001b[43mprec\u001b[49m\u001b[43m)\u001b[49m\n\u001b[1;32m   1489\u001b[0m \u001b[38;5;28;01mif\u001b[39;00m xe \u001b[38;5;129;01mis\u001b[39;00m \u001b[38;5;28;01mNone\u001b[39;00m:\n\u001b[1;32m   1490\u001b[0m     \u001b[38;5;28;01mraise\u001b[39;00m \u001b[38;5;167;01mNotImplementedError\u001b[39;00m\n",
      "File \u001b[0;32m/private/var/tmp/sage-10.5-current/local/var/lib/sage/venv-python3.12.5/lib/python3.12/site-packages/sympy/polys/rootoftools.py:922\u001b[0m, in \u001b[0;36mComplexRootOf._eval_evalf\u001b[0;34m(self, prec, **kwargs)\u001b[0m\n\u001b[1;32m    920\u001b[0m \u001b[38;5;250m\u001b[39m\u001b[38;5;124;03m\"\"\"Evaluate this complex root to the given precision.\"\"\"\u001b[39;00m\n\u001b[1;32m    921\u001b[0m \u001b[38;5;66;03m# all kwargs are ignored\u001b[39;00m\n\u001b[0;32m--> 922\u001b[0m \u001b[38;5;28;01mreturn\u001b[39;00m \u001b[38;5;28;43mself\u001b[39;49m\u001b[38;5;241;43m.\u001b[39;49m\u001b[43meval_rational\u001b[49m\u001b[43m(\u001b[49m\u001b[43mn\u001b[49m\u001b[38;5;241;43m=\u001b[39;49m\u001b[43mprec_to_dps\u001b[49m\u001b[43m(\u001b[49m\u001b[43mprec\u001b[49m\u001b[43m)\u001b[49m\u001b[43m)\u001b[49m\u001b[38;5;241m.\u001b[39m_evalf(prec)\n",
      "File \u001b[0;32m/private/var/tmp/sage-10.5-current/local/var/lib/sage/venv-python3.12.5/lib/python3.12/site-packages/sympy/polys/rootoftools.py:973\u001b[0m, in \u001b[0;36mComplexRootOf.eval_rational\u001b[0;34m(self, dx, dy, n)\u001b[0m\n\u001b[1;32m    971\u001b[0m \u001b[38;5;28;01mif\u001b[39;00m rtol:\n\u001b[1;32m    972\u001b[0m     dx \u001b[38;5;241m=\u001b[39m \u001b[38;5;28mabs\u001b[39m(interval\u001b[38;5;241m.\u001b[39mcenter\u001b[38;5;241m*\u001b[39mrtol)\n\u001b[0;32m--> 973\u001b[0m interval \u001b[38;5;241m=\u001b[39m \u001b[43minterval\u001b[49m\u001b[38;5;241;43m.\u001b[39;49m\u001b[43mrefine_size\u001b[49m\u001b[43m(\u001b[49m\u001b[43mdx\u001b[49m\u001b[38;5;241;43m=\u001b[39;49m\u001b[43mdx\u001b[49m\u001b[43m)\u001b[49m\n\u001b[1;32m    974\u001b[0m c \u001b[38;5;241m=\u001b[39m interval\u001b[38;5;241m.\u001b[39mcenter\n\u001b[1;32m    975\u001b[0m real \u001b[38;5;241m=\u001b[39m Rational(c)\n",
      "File \u001b[0;32m/private/var/tmp/sage-10.5-current/local/var/lib/sage/venv-python3.12.5/lib/python3.12/site-packages/sympy/polys/rootisolation.py:1870\u001b[0m, in \u001b[0;36mRealInterval.refine_size\u001b[0;34m(self, dx)\u001b[0m\n\u001b[1;32m   1868\u001b[0m expr \u001b[38;5;241m=\u001b[39m \u001b[38;5;28mself\u001b[39m\n\u001b[1;32m   1869\u001b[0m \u001b[38;5;28;01mwhile\u001b[39;00m \u001b[38;5;129;01mnot\u001b[39;00m (expr\u001b[38;5;241m.\u001b[39mdx \u001b[38;5;241m<\u001b[39m dx):\n\u001b[0;32m-> 1870\u001b[0m     expr \u001b[38;5;241m=\u001b[39m \u001b[43mexpr\u001b[49m\u001b[38;5;241;43m.\u001b[39;49m\u001b[43m_inner_refine\u001b[49m\u001b[43m(\u001b[49m\u001b[43m)\u001b[49m\n\u001b[1;32m   1872\u001b[0m \u001b[38;5;28;01mreturn\u001b[39;00m expr\n",
      "File \u001b[0;32m/private/var/tmp/sage-10.5-current/local/var/lib/sage/venv-python3.12.5/lib/python3.12/site-packages/sympy/polys/rootisolation.py:1853\u001b[0m, in \u001b[0;36mRealInterval._inner_refine\u001b[0;34m(self)\u001b[0m\n\u001b[1;32m   1850\u001b[0m \u001b[38;5;28;01mif\u001b[39;00m \u001b[38;5;28mself\u001b[39m\u001b[38;5;241m.\u001b[39mmobius \u001b[38;5;129;01mis\u001b[39;00m \u001b[38;5;28;01mNone\u001b[39;00m:\n\u001b[1;32m   1851\u001b[0m     \u001b[38;5;28;01mreturn\u001b[39;00m \u001b[38;5;28mself\u001b[39m\n\u001b[0;32m-> 1853\u001b[0m f, mobius \u001b[38;5;241m=\u001b[39m \u001b[43mdup_inner_refine_real_root\u001b[49m\u001b[43m(\u001b[49m\n\u001b[1;32m   1854\u001b[0m \u001b[43m    \u001b[49m\u001b[38;5;28;43mself\u001b[39;49m\u001b[38;5;241;43m.\u001b[39;49m\u001b[43mf\u001b[49m\u001b[43m,\u001b[49m\u001b[43m \u001b[49m\u001b[38;5;28;43mself\u001b[39;49m\u001b[38;5;241;43m.\u001b[39;49m\u001b[43mmobius\u001b[49m\u001b[43m,\u001b[49m\u001b[43m \u001b[49m\u001b[38;5;28;43mself\u001b[39;49m\u001b[38;5;241;43m.\u001b[39;49m\u001b[43mdom\u001b[49m\u001b[43m,\u001b[49m\u001b[43m \u001b[49m\u001b[43msteps\u001b[49m\u001b[38;5;241;43m=\u001b[39;49m\u001b[38;5;241;43m1\u001b[39;49m\u001b[43m,\u001b[49m\u001b[43m \u001b[49m\u001b[43mmobius\u001b[49m\u001b[38;5;241;43m=\u001b[39;49m\u001b[38;5;28;43;01mTrue\u001b[39;49;00m\u001b[43m)\u001b[49m\n\u001b[1;32m   1856\u001b[0m \u001b[38;5;28;01mreturn\u001b[39;00m RealInterval(mobius \u001b[38;5;241m+\u001b[39m (\u001b[38;5;28mself\u001b[39m\u001b[38;5;241m.\u001b[39mneg,), f, \u001b[38;5;28mself\u001b[39m\u001b[38;5;241m.\u001b[39mdom)\n",
      "File \u001b[0;32m/private/var/tmp/sage-10.5-current/local/var/lib/sage/venv-python3.12.5/lib/python3.12/site-packages/sympy/polys/rootisolation.py:295\u001b[0m, in \u001b[0;36mdup_inner_refine_real_root\u001b[0;34m(f, M, K, eps, steps, disjoint, fast, mobius)\u001b[0m\n\u001b[1;32m    293\u001b[0m     \u001b[38;5;28;01mif\u001b[39;00m steps \u001b[38;5;129;01mis\u001b[39;00m \u001b[38;5;129;01mnot\u001b[39;00m \u001b[38;5;28;01mNone\u001b[39;00m:\n\u001b[1;32m    294\u001b[0m         \u001b[38;5;28;01mfor\u001b[39;00m i \u001b[38;5;129;01min\u001b[39;00m \u001b[38;5;28mrange\u001b[39m(\u001b[38;5;241m0\u001b[39m, steps):\n\u001b[0;32m--> 295\u001b[0m             f, (a, b, c, d) \u001b[38;5;241m=\u001b[39m \u001b[43mdup_step_refine_real_root\u001b[49m\u001b[43m(\u001b[49m\u001b[43mf\u001b[49m\u001b[43m,\u001b[49m\u001b[43m \u001b[49m\u001b[43m(\u001b[49m\u001b[43ma\u001b[49m\u001b[43m,\u001b[49m\u001b[43m \u001b[49m\u001b[43mb\u001b[49m\u001b[43m,\u001b[49m\u001b[43m \u001b[49m\u001b[43mc\u001b[49m\u001b[43m,\u001b[49m\u001b[43m \u001b[49m\u001b[43md\u001b[49m\u001b[43m)\u001b[49m\u001b[43m,\u001b[49m\u001b[43m \u001b[49m\u001b[43mK\u001b[49m\u001b[43m,\u001b[49m\u001b[43m \u001b[49m\u001b[43mfast\u001b[49m\u001b[38;5;241;43m=\u001b[39;49m\u001b[43mfast\u001b[49m\u001b[43m)\u001b[49m\n\u001b[1;32m    297\u001b[0m \u001b[38;5;28;01mif\u001b[39;00m disjoint \u001b[38;5;129;01mis\u001b[39;00m \u001b[38;5;129;01mnot\u001b[39;00m \u001b[38;5;28;01mNone\u001b[39;00m:\n\u001b[1;32m    298\u001b[0m     \u001b[38;5;28;01mwhile\u001b[39;00m \u001b[38;5;28;01mTrue\u001b[39;00m:\n",
      "File \u001b[0;32m/private/var/tmp/sage-10.5-current/local/var/lib/sage/venv-python3.12.5/lib/python3.12/site-packages/sympy/polys/rootisolation.py:230\u001b[0m, in \u001b[0;36mdup_step_refine_real_root\u001b[0;34m(f, M, K, fast)\u001b[0m\n\u001b[1;32m    227\u001b[0m \u001b[38;5;28;01mif\u001b[39;00m a \u001b[38;5;241m==\u001b[39m b \u001b[38;5;129;01mand\u001b[39;00m c \u001b[38;5;241m==\u001b[39m d:\n\u001b[1;32m    228\u001b[0m     \u001b[38;5;28;01mreturn\u001b[39;00m f, (a, b, c, d)\n\u001b[0;32m--> 230\u001b[0m A \u001b[38;5;241m=\u001b[39m \u001b[43mdup_root_lower_bound\u001b[49m\u001b[43m(\u001b[49m\u001b[43mf\u001b[49m\u001b[43m,\u001b[49m\u001b[43m \u001b[49m\u001b[43mK\u001b[49m\u001b[43m)\u001b[49m\n\u001b[1;32m    232\u001b[0m \u001b[38;5;28;01mif\u001b[39;00m A \u001b[38;5;129;01mis\u001b[39;00m \u001b[38;5;129;01mnot\u001b[39;00m \u001b[38;5;28;01mNone\u001b[39;00m:\n\u001b[1;32m    233\u001b[0m     A \u001b[38;5;241m=\u001b[39m K(\u001b[38;5;28mint\u001b[39m(A))\n",
      "File \u001b[0;32m/private/var/tmp/sage-10.5-current/local/var/lib/sage/venv-python3.12.5/lib/python3.12/site-packages/sympy/polys/rootisolation.py:124\u001b[0m, in \u001b[0;36mdup_root_lower_bound\u001b[0;34m(f, K)\u001b[0m\n\u001b[1;32m    114\u001b[0m \u001b[38;5;28;01mdef\u001b[39;00m \u001b[38;5;21mdup_root_lower_bound\u001b[39m(f, K):\n\u001b[1;32m    115\u001b[0m \u001b[38;5;250m    \u001b[39m\u001b[38;5;124;03m\"\"\"Compute the LMQ lower bound for the positive roots of `f`;\u001b[39;00m\n\u001b[1;32m    116\u001b[0m \u001b[38;5;124;03m       LMQ (Local Max Quadratic) was developed by Akritas-Strzebonski-Vigklas.\u001b[39;00m\n\u001b[1;32m    117\u001b[0m \n\u001b[0;32m   (...)\u001b[0m\n\u001b[1;32m    122\u001b[0m \u001b[38;5;124;03m              Journal of Universal Computer Science, Vol. 15, No. 3, 523-537, 2009.\u001b[39;00m\n\u001b[1;32m    123\u001b[0m \u001b[38;5;124;03m    \"\"\"\u001b[39;00m\n\u001b[0;32m--> 124\u001b[0m     bound \u001b[38;5;241m=\u001b[39m \u001b[43mdup_root_upper_bound\u001b[49m\u001b[43m(\u001b[49m\u001b[43mdup_reverse\u001b[49m\u001b[43m(\u001b[49m\u001b[43mf\u001b[49m\u001b[43m)\u001b[49m\u001b[43m,\u001b[49m\u001b[43m \u001b[49m\u001b[43mK\u001b[49m\u001b[43m)\u001b[49m\n\u001b[1;32m    126\u001b[0m     \u001b[38;5;28;01mif\u001b[39;00m bound \u001b[38;5;129;01mis\u001b[39;00m \u001b[38;5;129;01mnot\u001b[39;00m \u001b[38;5;28;01mNone\u001b[39;00m:\n\u001b[1;32m    127\u001b[0m         \u001b[38;5;28;01mreturn\u001b[39;00m \u001b[38;5;241m1\u001b[39m\u001b[38;5;241m/\u001b[39mbound\n",
      "File \u001b[0;32m/private/var/tmp/sage-10.5-current/local/var/lib/sage/venv-python3.12.5/lib/python3.12/site-packages/sympy/polys/rootisolation.py:97\u001b[0m, in \u001b[0;36mdup_root_upper_bound\u001b[0;34m(f, K)\u001b[0m\n\u001b[1;32m     94\u001b[0m     \u001b[38;5;28;01mif\u001b[39;00m f[j] \u001b[38;5;241m<\u001b[39m\u001b[38;5;241m=\u001b[39m \u001b[38;5;241m0\u001b[39m:\n\u001b[1;32m     95\u001b[0m         \u001b[38;5;28;01mcontinue\u001b[39;00m\n\u001b[0;32m---> 97\u001b[0m     q \u001b[38;5;241m=\u001b[39m t[j] \u001b[38;5;241m+\u001b[39m a \u001b[38;5;241m-\u001b[39m \u001b[43mK\u001b[49m\u001b[38;5;241;43m.\u001b[39;49m\u001b[43mlog\u001b[49m\u001b[43m(\u001b[49m\u001b[43mf\u001b[49m\u001b[43m[\u001b[49m\u001b[43mj\u001b[49m\u001b[43m]\u001b[49m\u001b[43m,\u001b[49m\u001b[43m \u001b[49m\u001b[38;5;241;43m2\u001b[39;49m\u001b[43m)\u001b[49m\n\u001b[1;32m     98\u001b[0m     QL\u001b[38;5;241m.\u001b[39mappend([q \u001b[38;5;241m/\u001b[39m\u001b[38;5;241m/\u001b[39m (j \u001b[38;5;241m-\u001b[39m i), j])\n\u001b[1;32m    100\u001b[0m \u001b[38;5;28;01mif\u001b[39;00m \u001b[38;5;129;01mnot\u001b[39;00m QL:\n",
      "File \u001b[0;32m/private/var/tmp/sage-10.5-current/local/var/lib/sage/venv-python3.12.5/lib/python3.12/site-packages/sympy/polys/domains/integerring.py:166\u001b[0m, in \u001b[0;36mIntegerRing.log\u001b[0;34m(self, a, b)\u001b[0m\n\u001b[1;32m    136\u001b[0m \u001b[38;5;28;01mdef\u001b[39;00m \u001b[38;5;21mlog\u001b[39m(\u001b[38;5;28mself\u001b[39m, a, b):\n\u001b[1;32m    137\u001b[0m \u001b[38;5;250m    \u001b[39m\u001b[38;5;124mr\u001b[39m\u001b[38;5;124;03m\"\"\"Logarithm of *a* to the base *b*.\u001b[39;00m\n\u001b[1;32m    138\u001b[0m \n\u001b[1;32m    139\u001b[0m \u001b[38;5;124;03m    Parameters\u001b[39;00m\n\u001b[0;32m   (...)\u001b[0m\n\u001b[1;32m    164\u001b[0m \u001b[38;5;124;03m    fail for large integer arguments.\u001b[39;00m\n\u001b[1;32m    165\u001b[0m \u001b[38;5;124;03m    \"\"\"\u001b[39;00m\n\u001b[0;32m--> 166\u001b[0m     \u001b[38;5;28;01mreturn\u001b[39;00m \u001b[38;5;28mself\u001b[39m\u001b[38;5;241m.\u001b[39mdtype(\u001b[38;5;28mint\u001b[39m(math\u001b[38;5;241m.\u001b[39mlog(\u001b[38;5;28;43mint\u001b[39;49m\u001b[43m(\u001b[49m\u001b[43ma\u001b[49m\u001b[43m)\u001b[49m, b)))\n",
      "File \u001b[0;32msrc/cysignals/signals.pyx:341\u001b[0m, in \u001b[0;36mcysignals.signals.python_check_interrupt\u001b[0;34m()\u001b[0m\n",
      "\u001b[0;31mKeyboardInterrupt\u001b[0m: "
     ]
    }
   ],
   "source": [
    "import flipper\n",
    "surface = 'SB_10'\n",
    "S = flipper.load(surface)\n",
    "big_word = 'S_5.s_6.s_7.S_8.S_8.S_7.S_6.S_5.s_4.s_3.s_1.s_0.s_2.s_1.s_7.S_8.S_8.S_7.S_6.s_5.s_4.s_3.s_2.S_8.S_7.s_6.s_5.s_4.s_3.S_4.S_3.S_2.S_1.S_0.S_0.S_1.S_2.S_3.S_4.S_5.S_6.S_7.S_7.s_6.s_5.s_4.S_8.S_7.S_6.S_5.S_4.S_3.S_2.S_1.S_0.S_0.S_1.S_2.S_3.S_4.S_5.S_6.S_7.S_8.S_8.s_7.s_6.s_5.s_7.S_6.S_5.S_4.S_3.S_2.S_1.S_0.S_0.S_1.S_2.S_3.S_4.S_5.S_6.S_7.S_8.S_8.s_7.s_6.S_7.S_6.S_5.S_4.S_3.S_2.S_1.S_0.S_0.S_1.S_2.S_3.S_4.S_5.S_6.S_7.S_8.S_8.S_6.S_5.S_4.S_3.S_2.S_1.S_0.S_0.S_1.S_2.S_3.S_4.S_5.S_6.S_7.S_8.S_8.s_5.S_6.S_7.s_8.s_8.s_7.s_6.s_5.S_4.S_3.S_1.S_0.S_2.S_1.S_7.s_8.s_8.s_7.s_6.S_5.S_4.S_3.S_2.s_8.s_7.S_6.S_5.S_4.S_3.s_4.s_3.s_2.s_1.s_0.s_0.s_1.s_2.s_3.s_4.s_5.s_6.s_7.s_7.S_6.S_5.S_4.s_8.s_7.s_6.s_5.s_4.s_3.s_2.s_1.s_0.s_0.s_1.s_2.s_3.s_4.s_5.s_6.s_7.s_8.s_8.S_7.S_6.S_5.S_7.s_6.s_5.s_4.s_3.s_2.s_1.s_0.s_0.s_1.s_2.s_3.s_4.s_5.s_6.s_7.s_8.s_8.S_7.S_6.s_7.s_6.s_5.s_4.s_3.s_2.s_1.s_0.s_0.s_1.s_2.s_3.s_4.s_5.s_6.s_7.s_8.s_8.s_6.s_5.s_4.s_3.s_2.s_1.s_0.s_0.s_1.s_2.s_3.s_4.s_5.s_6.s_7.s_8.s_8'\n",
    "h = S.mapping_class(big_word)\n",
    "print('h is %s.' % h.nielsen_thurston_type())\n",
    "print('dilatation is %f.' % h.dilatation())"
   ]
  },
  {
   "cell_type": "code",
   "execution_count": 2,
   "id": "466e1a7f-b347-4968-a800-f5c7ddeaed58",
   "metadata": {},
   "outputs": [
    {
     "name": "stdout",
     "output_type": "stream",
     "text": [
      "h is Pseudo-Anosov.\n",
      "dilatation is 11.204293.\n"
     ]
    }
   ],
   "source": [
    "import flipper\n",
    "surface = 'SB_11'\n",
    "S = flipper.load(surface)\n",
    "big_word = 'S_5.s_6.s_7.S_8.S_8.S_7.S_6.S_5.s_4.s_3.s_1.s_0.s_2.s_1.s_7.S_8.S_8.S_7.S_6.s_5.s_4.s_3.s_2.S_8.S_7.s_6.s_5.s_4.s_3.S_4.S_3.S_2.S_1.S_0.S_0.S_1.S_2.S_3.S_4.S_5.S_6.S_7.S_7.s_6.s_5.s_4.S_8.S_7.S_6.S_5.S_4.S_3.S_2.S_1.S_0.S_0.S_1.S_2.S_3.S_4.S_5.S_6.S_7.S_8.S_8.s_7.s_6.s_5.s_7.S_6.S_5.S_4.S_3.S_2.S_1.S_0.S_0.S_1.S_2.S_3.S_4.S_5.S_6.S_7.S_8.S_8.s_7.s_6.S_7.S_6.S_5.S_4.S_3.S_2.S_1.S_0.S_0.S_1.S_2.S_3.S_4.S_5.S_6.S_7.S_8.S_8.S_6.S_5.S_4.S_3.S_2.S_1.S_0.S_0.S_1.S_2.S_3.S_4.S_5.S_6.S_7.S_8.S_8.s_5.S_6.S_7.s_8.s_8.s_7.s_6.s_5.S_4.S_3.S_1.S_0.S_2.S_1.S_7.s_8.s_8.s_7.s_6.S_5.S_4.S_3.S_2.s_8.s_7.S_6.S_5.S_4.S_3.s_4.s_3.s_2.s_1.s_0.s_0.s_1.s_2.s_3.s_4.s_5.s_6.s_7.s_7.S_6.S_5.S_4.s_8.s_7.s_6.s_5.s_4.s_3.s_2.s_1.s_0.s_0.s_1.s_2.s_3.s_4.s_5.s_6.s_7.s_8.s_8.S_7.S_6.S_5.S_7.s_6.s_5.s_4.s_3.s_2.s_1.s_0.s_0.s_1.s_2.s_3.s_4.s_5.s_6.s_7.s_8.s_8.S_7.S_6.s_7.s_6.s_5.s_4.s_3.s_2.s_1.s_0.s_0.s_1.s_2.s_3.s_4.s_5.s_6.s_7.s_8.s_8.s_6.s_5.s_4.s_3.s_2.s_1.s_0.s_0.s_1.s_2.s_3.s_4.s_5.s_6.s_7.s_8.s_8'\n",
    "h = S.mapping_class(big_word)\n",
    "print('h is %s.' % h.nielsen_thurston_type())\n",
    "print('dilatation is %f.' % h.dilatation())"
   ]
  },
  {
   "cell_type": "code",
   "execution_count": 3,
   "id": "3a43655e",
   "metadata": {},
   "outputs": [
    {
     "name": "stdout",
     "output_type": "stream",
     "text": [
      "h is Reducible.\n",
      "dilatation is 1.000000.\n"
     ]
    }
   ],
   "source": [
    "import flipper\n",
    "surface = 'SB_12'\n",
    "S = flipper.load(surface)\n",
    "big_word = 'S_5.s_6.s_7.S_8.S_8.S_7.S_6.S_5.s_4.s_3.s_1.s_0.s_2.s_1.s_7.S_8.S_8.S_7.S_6.s_5.s_4.s_3.s_2.S_8.S_7.s_6.s_5.s_4.s_3.S_4.S_3.S_2.S_1.S_0.S_0.S_1.S_2.S_3.S_4.S_5.S_6.S_7.S_7.s_6.s_5.s_4.S_8.S_7.S_6.S_5.S_4.S_3.S_2.S_1.S_0.S_0.S_1.S_2.S_3.S_4.S_5.S_6.S_7.S_8.S_8.s_7.s_6.s_5.s_7.S_6.S_5.S_4.S_3.S_2.S_1.S_0.S_0.S_1.S_2.S_3.S_4.S_5.S_6.S_7.S_8.S_8.s_7.s_6.S_7.S_6.S_5.S_4.S_3.S_2.S_1.S_0.S_0.S_1.S_2.S_3.S_4.S_5.S_6.S_7.S_8.S_8.S_6.S_5.S_4.S_3.S_2.S_1.S_0.S_0.S_1.S_2.S_3.S_4.S_5.S_6.S_7.S_8.S_8.s_5.S_6.S_7.s_8.s_8.s_7.s_6.s_5.S_4.S_3.S_1.S_0.S_2.S_1.S_7.s_8.s_8.s_7.s_6.S_5.S_4.S_3.S_2.s_8.s_7.S_6.S_5.S_4.S_3.s_4.s_3.s_2.s_1.s_0.s_0.s_1.s_2.s_3.s_4.s_5.s_6.s_7.s_7.S_6.S_5.S_4.s_8.s_7.s_6.s_5.s_4.s_3.s_2.s_1.s_0.s_0.s_1.s_2.s_3.s_4.s_5.s_6.s_7.s_8.s_8.S_7.S_6.S_5.S_7.s_6.s_5.s_4.s_3.s_2.s_1.s_0.s_0.s_1.s_2.s_3.s_4.s_5.s_6.s_7.s_8.s_8.S_7.S_6.s_7.s_6.s_5.s_4.s_3.s_2.s_1.s_0.s_0.s_1.s_2.s_3.s_4.s_5.s_6.s_7.s_8.s_8.s_6.s_5.s_4.s_3.s_2.s_1.s_0.s_0.s_1.s_2.s_3.s_4.s_5.s_6.s_7.s_8.s_8'\n",
    "h = S.mapping_class(big_word)\n",
    "print('h is %s.' % h.nielsen_thurston_type())\n",
    "print('dilatation is %f.' % h.dilatation())"
   ]
  },
  {
   "cell_type": "code",
   "execution_count": 5,
   "id": "29c0b6aa",
   "metadata": {},
   "outputs": [
    {
     "name": "stdout",
     "output_type": "stream",
     "text": [
      "h is Pseudo-Anosov.\n",
      "dilatation is 67.048738.\n"
     ]
    }
   ],
   "source": [
    " import flipper\n",
    "surface = 'SB_10'\n",
    "S = flipper.load(surface)\n",
    "big_word = 'S_5.s_6.s_7.S_8.S_8.S_7.S_6.S_5.s_4.s_2.s_1.s_7.S_8.S_8.S_7.S_6.s_5.s_4.s_3.s_2.S_8.S_7.s_6.s_5.s_4.s_3.S_4.S_3.S_2.S_1.S_0.S_0.S_1.S_2.S_3.S_4.S_5.S_6.S_7.S_7.s_6.s_5.s_4.S_8.S_7.S_6.S_5.S_4.S_3.S_2.S_1.S_0.S_2.S_3.S_4.S_5.S_6.S_7.S_8.S_8.s_7.s_6.s_5.s_7.S_6.S_5.S_4.S_3.S_2.S_1.S_0.S_0.S_1.S_2.S_3.S_4.S_5.S_6.S_7.S_8.S_8.s_7.s_6.S_7.S_6.S_5.S_4.S_3.S_2.S_1.S_0.S_0.S_3.S_4.S_5.S_6.S_7.s_5.S_6.S_7.s_8.s_8.s_7.s_6.s_5.S_4.S_3.S_1.S_0.S_2.S_1.S_7.s_8.s_8.s_7.s_6.S_5.S_4.S_3.S_2.s_8.s_7.S_6.S_5.S_4.S_3.s_4.s_3.s_2.s_1.s_0.s_0.s_1.s_2.s_3.s_4.s_5.s_6.s_7.s_7.S_6.S_5.S_4.s_8.s_7.s_6.s_5.s_4.s_3.s_2.s_1.s_0.s_0.s_1.s_2.s_3.s_4.s_5.s_6.s_7.s_8.s_8.S_7.S_6.S_5.S_7.s_6.s_5.s_4.s_3.s_2.s_1.s_0.s_0.s_1.s_2.s_3.s_4.s_5.s_6.s_7.s_8.s_8.S_7.S_6.s_7.s_6.s_5.s_4.s_3.s_2.s_1.s_0.s_0.s_1.s_2.s_3.s_4.s_5.s_6.s_7'\n",
    "h = S.mapping_class(big_word)\n",
    "print('h is %s.' % h.nielsen_thurston_type())\n",
    "print('dilatation is %f.' % h.dilatation())"
   ]
  },
  {
   "cell_type": "code",
   "execution_count": 6,
   "id": "b4499dd3",
   "metadata": {},
   "outputs": [
    {
     "name": "stdout",
     "output_type": "stream",
     "text": [
      "h is Pseudo-Anosov.\n",
      "dilatation is 3.732051.\n"
     ]
    }
   ],
   "source": [
    " import flipper\n",
    "surface = 'SB_4'\n",
    "S = flipper.load(surface)\n",
    "big_word = 'S_2.S_2.s_1'\n",
    "h = S.mapping_class(big_word)\n",
    "print('h is %s.' % h.nielsen_thurston_type())\n",
    "print('dilatation is %f.' % h.dilatation())"
   ]
  },
  {
   "cell_type": "code",
   "execution_count": 7,
   "id": "f9bc354e",
   "metadata": {},
   "outputs": [
    {
     "name": "stdout",
     "output_type": "stream",
     "text": [
      "h is Pseudo-Anosov.\n",
      "dilatation is 3.732051.\n"
     ]
    }
   ],
   "source": [
    " import flipper\n",
    "surface = 'SB_4'\n",
    "S = flipper.load(surface)\n",
    "big_word = 's_2.s_1.s_0.s_0.s_1.s_2.S_2.S_2.s_1'\n",
    "h = S.mapping_class(big_word)\n",
    "print('h is %s.' % h.nielsen_thurston_type())\n",
    "print('dilatation is %f.' % h.dilatation())"
   ]
  },
  {
   "cell_type": "code",
   "execution_count": null,
   "id": "ea99a0a6",
   "metadata": {},
   "outputs": [],
   "source": []
  }
 ],
 "metadata": {
  "kernelspec": {
   "display_name": "SageMath 10.5",
   "language": "sage",
   "name": "SageMath-10.5"
  },
  "language_info": {
   "codemirror_mode": {
    "name": "ipython",
    "version": 3
   },
   "file_extension": ".py",
   "mimetype": "text/x-python",
   "name": "python",
   "nbconvert_exporter": "python",
   "pygments_lexer": "ipython3",
   "version": "3.12.5"
  }
 },
 "nbformat": 4,
 "nbformat_minor": 5
}
