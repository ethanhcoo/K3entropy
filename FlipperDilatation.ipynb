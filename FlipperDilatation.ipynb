{
 "cells": [
  {
   "cell_type": "code",
   "execution_count": 1,
   "id": "b1776988-00c6-4c1e-98e4-6ae0511bd2d2",
   "metadata": {},
   "outputs": [
    {
     "name": "stdout",
     "output_type": "stream",
     "text": [
      "h is Pseudo-Anosov.\n",
      "dilatation is 8.199814.\n"
     ]
    }
   ],
   "source": [
    "import flipper\n",
    "surface = 'SB_10'\n",
    "S = flipper.load(surface)\n",
    "big_word = 's_5.S_6.S_7.s_8.s_8.s_7.s_6.s_5.S_4.S_3.S_1.S_0.S_2.S_1.S_7.s_8.s_8.s_7.s_6.S_5.S_4.S_3.S_2.s_8.s_7.S_6.S_5.S_4.S_3.s_4.s_3.s_2.s_1.s_0.s_0.s_1.s_2.s_3.s_4.s_5.s_6.s_7.s_7.S_6.S_5.S_4.s_8.s_7.s_6.s_5.s_4.s_3.s_2.s_1.s_0.s_0.s_1.s_2.s_3.s_4.s_5.s_6.s_7.s_8.s_8.S_7.S_6.S_5.S_7.s_6.s_5.s_4.s_3.s_2.s_1.s_0.s_0.s_1.s_2.s_3.s_4.s_5.s_6.s_7.s_8.s_8.S_7.S_6.s_7.s_6.s_5.s_4.s_3.s_2.s_1.s_0.s_0.s_1.s_2.s_3.s_4.s_5.s_6.s_7.s_8.s_8.S_7.s_7.s_6.s_5.s_4.s_3.s_2.s_1.s_0.s_0.s_1.s_2.s_3.s_4.s_5.s_6.s_7.s_8.s_8.S_5.s_6.s_7.S_8.S_8.S_7.S_6.S_5.s_4.s_3.s_1.s_0.s_2.s_1.s_7.S_8.S_8.S_7.S_6.s_5.s_4.s_3.s_2.S_8.S_7.s_6.s_5.s_4.s_3.S_4.S_3.S_2.S_1.S_0.S_0.S_1.S_2.S_3.S_4.S_5.S_6.S_7.S_7.s_6.s_5.s_4.S_8.S_7.S_6.S_5.S_4.S_3.S_2.S_1.S_0.S_0.S_1.S_2.S_3.S_4.S_5.S_6.S_7.S_8.S_8.s_7.s_6.s_5.s_7.S_6.S_5.S_4.S_3.S_2.S_1.S_0.S_0.S_1.S_2.S_3.S_4.S_5.S_6.S_7.S_8.S_8.s_7.s_6.S_7.S_6.S_5.S_4.S_3.S_2.S_1.S_0.S_0.S_1.S_2.S_3.S_4.S_5.S_6.S_7.S_8.S_8.s_7.S_7.S_6.S_5.S_4.S_3.S_2.S_1.S_0.S_0.S_1.S_2.S_3.S_4.S_5.S_6.S_7.S_8.S_8'\n",
    "h = S.mapping_class(big_word)\n",
    "print('h is %s.' % h.nielsen_thurston_type())\n",
    "print('dilatation is %f.' % h.dilatation())"
   ]
  },
  {
   "cell_type": "code",
   "execution_count": null,
   "id": "f651542b",
   "metadata": {},
   "outputs": [],
   "source": []
  }
 ],
 "metadata": {
  "kernelspec": {
   "display_name": "SageMath 10.5",
   "language": "sage",
   "name": "SageMath-10.5"
  },
  "language_info": {
   "codemirror_mode": {
    "name": "ipython",
    "version": 3
   },
   "file_extension": ".py",
   "mimetype": "text/x-python",
   "name": "python",
   "nbconvert_exporter": "python",
   "pygments_lexer": "ipython3",
   "version": "3.12.5"
  }
 },
 "nbformat": 4,
 "nbformat_minor": 5
}
